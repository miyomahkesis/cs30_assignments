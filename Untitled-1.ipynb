{
 "cells": [
  {
   "cell_type": "code",
   "execution_count": 1,
   "metadata": {},
   "outputs": [
    {
     "name": "stdout",
     "output_type": "stream",
     "text": [
      "\u001b[1;4mIyikopiwi-pisim\u001b[0m - November\n",
      "Nisto-kisikaw (Wednesday)\n"
     ]
    }
   ],
   "source": [
    "import datetime as dt\n",
    "\n",
    "ispayinPikiskwewina = [ # Weekday Words\n",
    "    'Peyako', 'Niso', 'Nisto', 'Newo', 'Niyanano', 'Nikotwaso', 'Ayimihewi'\n",
    "]\n",
    "pisimPikiskwewina = [ # Month Words\n",
    "    'jan', 'feb', 'march', 'april', # Jan, Feb, Mar, Apr\n",
    "    'Sakipakawi', 'Paskawihowi', 'Paskowi', 'Ohpahowi', # May, June, July, Aug\n",
    "    'Nocihitowi',  'Kaskatinowi', 'Iyikopiwi', 'Pawacakinasisi' # Sept, Oct, Nov, Dec\n",
    "]\n",
    "tipihakan = dt.datetime.now() # Time right now\n",
    "\n",
    "ispayin = tipihakan.weekday() # Weekday in integer form\n",
    "pisim = tipihakan.month # Month in integer form\n",
    "def monthToCree(month): # Convert Month into whatever name it is\n",
    "    if month == 1: # January\n",
    "        pisim = pisimPikiskwewina[0]\n",
    "        month = 'January'\n",
    "    elif month == 2: # Feburary\n",
    "        pisim = pisimPikiskwewina[1]\n",
    "        month = 'Feburary'\n",
    "    elif month == 3: # March\n",
    "        pisim = pisimPikiskwewina[2]\n",
    "        month = 'March'\n",
    "    elif month == 4: # April\n",
    "        pisim = pisimPikiskwewina[3]\n",
    "        month = 'April'\n",
    "    elif month == 5: # May\n",
    "        pisim = pisimPikiskwewina[4]\n",
    "        month = 'May'\n",
    "    elif month == 6: # June\n",
    "        pisim = pisimPikiskwewina[5]\n",
    "        month = 'June'\n",
    "    elif month == 7: # July\n",
    "        pisim = pisimPikiskwewina[6]\n",
    "        month = 'July'\n",
    "    elif month == 8: # August\n",
    "        pisim = pisimPikiskwewina[7]\n",
    "        month = 'August'\n",
    "    elif month == 9: # September\n",
    "        pisim = pisimPikiskwewina[8]\n",
    "        month = 'September'\n",
    "    elif month == 10: # October\n",
    "        pisim = pisimPikiskwewina[9]\n",
    "        month = 'October'\n",
    "    elif month == 11: # November\n",
    "        pisim = pisimPikiskwewina[10]\n",
    "        month = 'November'\n",
    "    elif month == 12: # December\n",
    "        pisim = pisimPikiskwewina[11]\n",
    "    return ('\\033[1;4m'+pisim+'-pisim'+'\\033[0m - '+month)\n",
    "def weekdayToCree(weekday): # Convert Weekdays into whatever name it is\n",
    "    if weekday == 6: # Sunday\n",
    "        ispayin = ispayinPikiskwewina[6]\n",
    "        dayOfWeek = 'Sunday'\n",
    "    elif weekday == 0: # Monday\n",
    "        ispayin = ispayinPikiskwewina[0]\n",
    "        dayOfWeek = 'Monday'\n",
    "    elif weekday == 1: # Tuesday\n",
    "        ispayin = ispayinPikiskwewina[1]\n",
    "        dayOfWeek = 'Tuesday'\n",
    "    elif weekday == 2: # Wednesday\n",
    "        ispayin = ispayinPikiskwewina[2]\n",
    "        dayOfWeek = 'Wednesday'\n",
    "    elif weekday == 3: # Thursday\n",
    "        ispayin = ispayinPikiskwewina[3]\n",
    "        dayOfWeek = 'Thursday'\n",
    "    elif weekday == 4: # Friday\n",
    "        ispayin = ispayinPikiskwewina[4]\n",
    "        dayOfWeek = 'Friday'\n",
    "    elif weekday == 5: # Saturday\n",
    "        ispayin = ispayinPikiskwewina[5]\n",
    "        dayOfWeek = 'Saturday'\n",
    "    return (ispayin + '-kisikaw' + ' ('+dayOfWeek+')')\n",
    "pisimIspayow = monthToCree(pisim) # Create var for it\n",
    "ispayinIspayow = weekdayToCree(ispayin) # Create var for it\n",
    "\n",
    "print(\n",
    "    str(pisimIspayow)+'\\n'+\n",
    "    str(ispayinIspayow)\n",
    ") # Print"
   ]
  },
  {
   "cell_type": "code",
   "execution_count": 18,
   "metadata": {},
   "outputs": [
    {
     "name": "stdout",
     "output_type": "stream",
     "text": [
      "372.4 + 79.8 = 452.2\n",
      "210.69 + 452.2 = 662.89\n"
     ]
    }
   ],
   "source": [
    "WEEK_HOURS = 12 + 16\n",
    "\n",
    "mini = 13.30\n",
    "\n",
    "yes = 13.30 * 1.5\n",
    "\n",
    "oring = round(WEEK_HOURS * mini, 2)\n",
    "timeAhalf = round(yes * 4, 2)\n",
    "together = round(oring + timeAhalf, 2)\n",
    "current = 210.69\n",
    "print(str(oring), \"+\", str(timeAhalf), \"=\", str(together))\n",
    "print(str(current), \"+\", str(together), \"=\", str(current + together))"
   ]
  },
  {
   "cell_type": "code",
   "execution_count": null,
   "metadata": {},
   "outputs": [],
   "source": []
  }
 ],
 "metadata": {
  "kernelspec": {
   "display_name": "Python 3.10.5 64-bit",
   "language": "python",
   "name": "python3"
  },
  "language_info": {
   "codemirror_mode": {
    "name": "ipython",
    "version": 3
   },
   "file_extension": ".py",
   "mimetype": "text/x-python",
   "name": "python",
   "nbconvert_exporter": "python",
   "pygments_lexer": "ipython3",
   "version": "3.10.5"
  },
  "orig_nbformat": 4,
  "vscode": {
   "interpreter": {
    "hash": "4d90863a8ba5a594c2067d466d5cbc1df6497871e4febaa74e85b4a1f626109b"
   }
  }
 },
 "nbformat": 4,
 "nbformat_minor": 2
}
