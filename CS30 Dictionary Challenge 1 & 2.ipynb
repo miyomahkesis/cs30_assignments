{
 "cells": [
  {
   "cell_type": "code",
   "execution_count": 1,
   "metadata": {},
   "outputs": [
    {
     "name": "stdout",
     "output_type": "stream",
     "text": [
      "\n",
      "Your teacher for INDIGENOUS 30 is Mr. Efftoda\n",
      "\n",
      "Mr. Hansen is teaching you COMPUTER SCIENCE 30\n"
     ]
    }
   ],
   "source": [
    "myClasses = {\n",
    "    'indigenous 30': ('efftoda', 'He'),\n",
    "    'computer science 30': ('hansen', 'He'),\n",
    "    'english language arts 30': ('chiverton', 'She'),\n",
    "    'finacial literacy 30': ('dallyn', 'He') \n",
    "}\n",
    "manners = {\n",
    "    'He': 'Mr.',\n",
    "    'She': 'Ms.'\n",
    "}\n",
    "def main() :\n",
    "    classInput = input('Input a class> ')\n",
    "    for Class in myClasses :\n",
    "        classTeacher = myClasses[Class][0]\n",
    "        gender = myClasses[Class][1]\n",
    "        if classInput.lower() == Class:\n",
    "            print('\\nYour teacher for', classInput.upper(), 'is', manners[gender], classTeacher[0].upper() + classTeacher[1:10].lower())\n",
    "    teacherInput = input('Input a teacher> ')\n",
    "    for Class in myClasses :\n",
    "        #print(Class) # for Testing\n",
    "        for teacher in myClasses[Class] :\n",
    "            gender = myClasses[Class][1]\n",
    "            xClass = myClasses\n",
    "            #print(teacher) # For testing\n",
    "            if teacherInput.lower() == teacher:\n",
    "                print('\\n' + manners[gender], teacherInput[0].upper() + teacherInput[1:10].lower(), 'is teaching you', Class.upper())\n",
    "main()"
   ]
  },
  {
   "cell_type": "code",
   "execution_count": null,
   "metadata": {},
   "outputs": [],
   "source": []
  }
 ],
 "metadata": {
  "kernelspec": {
   "display_name": "Python 3.10.5 64-bit",
   "language": "python",
   "name": "python3"
  },
  "language_info": {
   "codemirror_mode": {
    "name": "ipython",
    "version": 3
   },
   "file_extension": ".py",
   "mimetype": "text/x-python",
   "name": "python",
   "nbconvert_exporter": "python",
   "pygments_lexer": "ipython3",
   "version": "3.10.5"
  },
  "orig_nbformat": 4,
  "vscode": {
   "interpreter": {
    "hash": "4d90863a8ba5a594c2067d466d5cbc1df6497871e4febaa74e85b4a1f626109b"
   }
  }
 },
 "nbformat": 4,
 "nbformat_minor": 2
}
