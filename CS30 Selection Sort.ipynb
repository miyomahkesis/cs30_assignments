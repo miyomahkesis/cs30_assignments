{
 "cells": [
  {
   "cell_type": "code",
   "execution_count": 1,
   "metadata": {},
   "outputs": [
    {
     "name": "stdout",
     "output_type": "stream",
     "text": [
      "Unsorted: [6, 7, 3, 1, 10, 9]\n",
      "Sorted: [1, 3, 6, 7, 9, 10]\n"
     ]
    }
   ],
   "source": [
    "def sort(nums, length) :\n",
    "    for j in range(length) : # Gets the minimum number\n",
    "        iMin = j # here\n",
    "        #print(j)\n",
    "        for i in range(j + 1, length) :\n",
    "            #print(i)\n",
    "            if nums[i] < nums[iMin] : # selects the minimum number\n",
    "                iMin = i # here\n",
    "        (nums[j], nums[iMin]) = (nums[iMin], nums[j]) # swaps them\n",
    "class numsSort :\n",
    "    array = [6,7,3,1,10,9] # the numbers for the array\n",
    "    size = len(array) # gets the length for the function\n",
    "print('Unsorted:', numsSort.array)\n",
    "sort(numsSort.array, numsSort.size) # inputs data\n",
    "print('Sorted:', numsSort.array)"
   ]
  },
  {
   "cell_type": "code",
   "execution_count": 1,
   "metadata": {},
   "outputs": [
    {
     "name": "stdout",
     "output_type": "stream",
     "text": [
      "Unsorted: [6, 7, 3, 1, 10, 9]\n",
      "Sorted: [10, 9, 7, 6, 3, 1]\n"
     ]
    }
   ],
   "source": [
    "def sort(nums, length) :\n",
    "    for j in range(length) : # Gets the minimum number\n",
    "        iMin = j # here\n",
    "        #print(j)\n",
    "        for i in range(j + 1, length) :\n",
    "            #print(i)\n",
    "            if nums[i] > nums[iMin] : # selects the maximum number // i greater than iMin swaps it to \"descending down...\" -pantera\n",
    "                iMin = i # here\n",
    "        (nums[j], nums[iMin]) = (nums[iMin], nums[j]) # swaps them\n",
    "array = [6,7,3,1,10,9] # the numbers for the array\n",
    "size = len(array) # gets the length for the function\n",
    "print('Unsorted:', array)\n",
    "sort(array, size) # inputs data\n",
    "print('Sorted:', array)"
   ]
  },
  {
   "cell_type": "code",
   "execution_count": null,
   "metadata": {},
   "outputs": [],
   "source": []
  }
 ],
 "metadata": {
  "kernelspec": {
   "display_name": "Python 3.10.5 64-bit",
   "language": "python",
   "name": "python3"
  },
  "language_info": {
   "codemirror_mode": {
    "name": "ipython",
    "version": 3
   },
   "file_extension": ".py",
   "mimetype": "text/x-python",
   "name": "python",
   "nbconvert_exporter": "python",
   "pygments_lexer": "ipython3",
   "version": "3.10.5"
  },
  "orig_nbformat": 4,
  "vscode": {
   "interpreter": {
    "hash": "4d90863a8ba5a594c2067d466d5cbc1df6497871e4febaa74e85b4a1f626109b"
   }
  }
 },
 "nbformat": 4,
 "nbformat_minor": 2
}
