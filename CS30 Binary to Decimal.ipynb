{
 "cells": [
  {
   "cell_type": "code",
   "execution_count": 3,
   "metadata": {},
   "outputs": [
    {
     "name": "stdout",
     "output_type": "stream",
     "text": [
      "The decimal number for 101001 is 41\n"
     ]
    }
   ],
   "source": [
    "def main() :\n",
    "    decimal = 0 \n",
    "    binary = input('Input a binary number> ')\n",
    "    if binary.isdigit() : # Checks if input is digit\n",
    "        for digit in binary:\n",
    "            decimal = decimal*2+int(digit) # Forula\n",
    "        print('The decimal number for', str(binary), 'is', str(decimal))\n",
    "    else:\n",
    "        print('There was an error with the user input')\n",
    "main()"
   ]
  },
  {
   "cell_type": "code",
   "execution_count": 16,
   "metadata": {},
   "outputs": [
    {
     "name": "stdout",
     "output_type": "stream",
     "text": [
      "641\n"
     ]
    }
   ],
   "source": [
    "decimal = 0 \n",
    "binary = \"1010000001\"\n",
    "for digit in binary:\n",
    "    decimal = decimal*2+int(digit) # Forula\n",
    "print(decimal)"
   ]
  },
  {
   "cell_type": "code",
   "execution_count": null,
   "metadata": {},
   "outputs": [],
   "source": []
  }
 ],
 "metadata": {
  "kernelspec": {
   "display_name": "Python 3.10.5 64-bit",
   "language": "python",
   "name": "python3"
  },
  "language_info": {
   "codemirror_mode": {
    "name": "ipython",
    "version": 3
   },
   "file_extension": ".py",
   "mimetype": "text/x-python",
   "name": "python",
   "nbconvert_exporter": "python",
   "pygments_lexer": "ipython3",
   "version": "3.10.11"
  },
  "orig_nbformat": 4,
  "vscode": {
   "interpreter": {
    "hash": "4d90863a8ba5a594c2067d466d5cbc1df6497871e4febaa74e85b4a1f626109b"
   }
  }
 },
 "nbformat": 4,
 "nbformat_minor": 2
}
