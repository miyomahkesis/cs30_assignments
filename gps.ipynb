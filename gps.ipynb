{
 "cells": [
  {
   "cell_type": "code",
   "execution_count": 1,
   "metadata": {},
   "outputs": [
    {
     "name": "stdout",
     "output_type": "stream",
     "text": [
      "17.74 km\n"
     ]
    }
   ],
   "source": [
    "from math import asin, radians, sqrt, sin, cos\n",
    "\n",
    "def formula(φ1, λ1, φ2, λ2):\n",
    "    φ1, λ1, φ2, λ2 = map(radians, [φ1, λ1, φ2, λ2]) # Convert deciaml degrees to radians\n",
    "    dφ = φ2 - φ1                                    # 6371 is the Earth's radius\n",
    "    dλ = λ2 - λ1\n",
    "    d = 2*6371 * asin(sqrt(sin(dφ / 2)**2 + cos(φ2)*cos(φ2)*sin(dλ / 2)**2))\n",
    "    return d                                                # Haversine Formula #\n",
    "input = round(formula(108.42043, 54.17950, 108.2642, 54.0758), 2) # Inputs for the formula\n",
    "print(f'{input} km')"
   ]
  },
  {
   "cell_type": "code",
   "execution_count": null,
   "metadata": {},
   "outputs": [],
   "source": []
  }
 ],
 "metadata": {
  "kernelspec": {
   "display_name": "Python 3.10.5 64-bit",
   "language": "python",
   "name": "python3"
  },
  "language_info": {
   "codemirror_mode": {
    "name": "ipython",
    "version": 3
   },
   "file_extension": ".py",
   "mimetype": "text/x-python",
   "name": "python",
   "nbconvert_exporter": "python",
   "pygments_lexer": "ipython3",
   "version": "3.10.11"
  },
  "orig_nbformat": 4,
  "vscode": {
   "interpreter": {
    "hash": "4d90863a8ba5a594c2067d466d5cbc1df6497871e4febaa74e85b4a1f626109b"
   }
  }
 },
 "nbformat": 4,
 "nbformat_minor": 2
}
